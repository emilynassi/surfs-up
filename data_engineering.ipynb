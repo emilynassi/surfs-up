{
 "cells": [
  {
   "cell_type": "code",
   "execution_count": 4,
   "metadata": {
    "collapsed": true
   },
   "outputs": [],
   "source": [
    "#Import Dependencies\n",
    "import pandas as pd\n",
    "import os\n",
    "import numpy as np "
   ]
  },
  {
   "cell_type": "code",
   "execution_count": 5,
   "metadata": {},
   "outputs": [
    {
     "data": {
      "text/plain": [
       "'Resources'"
      ]
     },
     "execution_count": 5,
     "metadata": {},
     "output_type": "execute_result"
    }
   ],
   "source": [
    "#import files\n",
    "file1 = os.path.join('Resources/hawaii_measurements.csv')\n",
    "file2 = os.path.join('Resources/hawaii_stations.csv')\n",
    "#read csvs\n",
    "measurement_df = pd.read_csv(file1)\n",
    "station_df = pd.read_csv(file2)\n",
    "\n",
    "#Clean missing data \n",
    "measurement_df = measurement_df.dropna(how=\"any\")\n",
    "#write to new csv\n",
    "root = 'Resources'\n",
    "measurement_df.to_csv('clean_hawaii_measurements.csv', encoding='utf-8',index=False)\n",
    "os.path.join(root)"
   ]
  },
  {
   "cell_type": "code",
   "execution_count": null,
   "metadata": {
    "collapsed": true
   },
   "outputs": [],
   "source": []
  }
 ],
 "metadata": {
  "kernelspec": {
   "display_name": "Python 3",
   "language": "python",
   "name": "python3"
  },
  "language_info": {
   "codemirror_mode": {
    "name": "ipython",
    "version": 3
   },
   "file_extension": ".py",
   "mimetype": "text/x-python",
   "name": "python",
   "nbconvert_exporter": "python",
   "pygments_lexer": "ipython3",
   "version": "3.6.2"
  }
 },
 "nbformat": 4,
 "nbformat_minor": 2
}
